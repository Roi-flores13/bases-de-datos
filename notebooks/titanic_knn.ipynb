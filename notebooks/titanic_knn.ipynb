{
 "cells": [
  {
   "cell_type": "code",
   "execution_count": 1389,
   "metadata": {},
   "outputs": [],
   "source": [
    "import pandas as pd\n",
    "from sklearn.neighbors import KNeighborsClassifier\n",
    "import matplotlib.pyplot as plt\n",
    "import numpy as np\n",
    "import string\n",
    "from sklearn.model_selection import train_test_split"
   ]
  },
  {
   "cell_type": "code",
   "execution_count": 1390,
   "metadata": {},
   "outputs": [],
   "source": [
    "path = \"../data/raw/titanic/train.csv\"\n",
    "path2 = \"../data/raw/titanic/test.csv\"\n",
    "df = pd.read_csv(path)\n",
    "df_test = pd.read_csv(path2)"
   ]
  },
  {
   "cell_type": "code",
   "execution_count": 1391,
   "metadata": {},
   "outputs": [],
   "source": [
    "def alt(df):\n",
    "    median = round(df[\"Age\"].median(), 2)\n",
    "    df[\"Age\"] = df[\"Age\"].fillna(median)\n",
    "\n",
    "    mode = df[\"Embarked\"].mode()[0]\n",
    "    df[\"Embarked\"] = df[\"Embarked\"].fillna(mode)\n",
    "\n",
    "    np.random.seed(499)\n",
    "    null_id = df[\"Cabin\"].index[df[\"Cabin\"].isnull()]\n",
    "    non_null = df[\"Cabin\"].dropna().unique()\n",
    "    df.loc[null_id, \"Cabin\"] = np.random.choice(non_null, size=len(null_id))\n",
    "\n",
    "    df[\"Sex\"] = df[\"Sex\"].apply(lambda x: 1 if x == \"male\" else 0 if x == \"female\" else x)\n",
    "    df[\"Embarked\"] = df[\"Embarked\"].apply(lambda x: 0 if x == \"S\" else 1 if x == \"C\" else 2 if x == \"Q\" else x)\n",
    "    df[\"Cabin\"] = df[\"Cabin\"].apply(lambda x: ord(x[0]) if isinstance(x, str) else x)\n",
    "    df[\"Fare\"] = df[\"Fare\"].apply(lambda x: 0 if len(str(x).split(\".\")[0]) == 2 else 1)\n",
    "    df[\"Ticket\"] = df[\"Ticket\"].apply(lambda x: 0 if x[0].isalpha() else 1 if len(x) == 6 else 2 if len(x) == 4 else 3 if len(x) == 7 else 4 if len(x) == 5 else 5 if len(x) == 3 else x)\n",
    "    df[\"Name\"] = df[\"Name\"].apply(lambda x: 0 if \"Mrs\" in x else 1 if \"Mr\" in x else 2 if \"Miss\" in x else 4)\n",
    "    df[\"Age\"] = df[\"Age\"].apply(lambda x: 0 if x < 24 else 1)\n",
    "    \n",
    "    return df\n",
    "\n",
    "df = alt(df)\n",
    "df_test = alt(df_test)"
   ]
  },
  {
   "cell_type": "code",
   "execution_count": 1392,
   "metadata": {},
   "outputs": [],
   "source": [
    "Y = df[\"Survived\"]\n",
    "X = df[[\"Pclass\", \"Name\", \"Sex\", \"Age\", \"SibSp\", \"Parch\", \"Ticket\", \"Fare\", \"Cabin\", \"Embarked\"]]"
   ]
  },
  {
   "cell_type": "code",
   "execution_count": 1397,
   "metadata": {},
   "outputs": [
    {
     "data": {
      "text/plain": [
       "0.776536312849162"
      ]
     },
     "execution_count": 1397,
     "metadata": {},
     "output_type": "execute_result"
    }
   ],
   "source": [
    "clf = KNeighborsClassifier()\n",
    "x_train, x_test, y_train, y_test = train_test_split(X, Y, test_size= 0.2, random_state=3)\n",
    "clf.fit(x_train, y_train)\n",
    "clf.score(x_test, y_test)"
   ]
  },
  {
   "cell_type": "code",
   "execution_count": 1394,
   "metadata": {},
   "outputs": [],
   "source": [
    "df_test[\"Survived\"] = clf.predict(df_test.drop(\"PassengerId\", axis=1))"
   ]
  },
  {
   "cell_type": "code",
   "execution_count": 1395,
   "metadata": {},
   "outputs": [],
   "source": [
    "df_final = df_test[[\"PassengerId\", \"Survived\"]]\n",
    "df_final.to_csv(\"../data/processed/Final.csv\", index=False)"
   ]
  }
 ],
 "metadata": {
  "kernelspec": {
   "display_name": "PBD",
   "language": "python",
   "name": "python3"
  },
  "language_info": {
   "codemirror_mode": {
    "name": "ipython",
    "version": 3
   },
   "file_extension": ".py",
   "mimetype": "text/x-python",
   "name": "python",
   "nbconvert_exporter": "python",
   "pygments_lexer": "ipython3",
   "version": "3.10.13"
  }
 },
 "nbformat": 4,
 "nbformat_minor": 2
}
